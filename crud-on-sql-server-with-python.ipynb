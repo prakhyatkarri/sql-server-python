{
 "cells": [
  {
   "cell_type": "markdown",
   "metadata": {},
   "source": [
    "## CRUD Operations on SQL Server using Python\n",
    "\n",
    "For this example, we are using [SQL Server Express Edition 2019](https://hub.docker.com/_/microsoft-mssql-server) image in Docker compose environment."
   ]
  },
  {
   "cell_type": "markdown",
   "metadata": {},
   "source": [
    "### Step 1: Spin up Docker compose environment"
   ]
  },
  {
   "cell_type": "code",
   "execution_count": 12,
   "metadata": {},
   "outputs": [
    {
     "name": "stderr",
     "output_type": "stream",
     "text": [
      "Network sql-server-python_default  Creating\n",
      "Network sql-server-python_default  Created\n",
      "Container sql-server-python-db-1  Creating\n",
      "Container sql-server-python-db-1  Created\n",
      "Container sql-server-python-db-1  Starting\n",
      "Container sql-server-python-db-1  Started\n"
     ]
    }
   ],
   "source": [
    "!docker compose up --remove-orphans -d \n",
    "\n",
    "# --remove-orphans will remove any previously ran dangling containers\n",
    "# -d will run container in a detached mode\n",
    "\n",
    "# Allow initialization steps to complete\n",
    "from time import sleep\n",
    "sleep(10)"
   ]
  },
  {
   "cell_type": "markdown",
   "metadata": {},
   "source": [
    "### Step 2: Install SQL Server (ODBC) library for Python"
   ]
  },
  {
   "cell_type": "code",
   "execution_count": 13,
   "metadata": {},
   "outputs": [
    {
     "name": "stdout",
     "output_type": "stream",
     "text": [
      "Requirement already satisfied: pyodbc in c:\\users\\prakh\\appdata\\local\\packages\\pythonsoftwarefoundation.python.3.10_qbz5n2kfra8p0\\localcache\\local-packages\\python310\\site-packages (4.0.35)\n",
      "Note: you may need to restart the kernel to use updated packages.\n"
     ]
    },
    {
     "name": "stderr",
     "output_type": "stream",
     "text": [
      "\n",
      "[notice] A new release of pip available: 22.2.2 -> 22.3.1\n",
      "[notice] To update, run: C:\\Users\\prakh\\AppData\\Local\\Microsoft\\WindowsApps\\PythonSoftwareFoundation.Python.3.10_qbz5n2kfra8p0\\python.exe -m pip install --upgrade pip\n"
     ]
    }
   ],
   "source": [
    "pip install pyodbc"
   ]
  },
  {
   "cell_type": "markdown",
   "metadata": {},
   "source": [
    "### Step 3: Connect to SQL Server database using Python"
   ]
  },
  {
   "cell_type": "code",
   "execution_count": 14,
   "metadata": {},
   "outputs": [
    {
     "name": "stdout",
     "output_type": "stream",
     "text": [
      "Connection Successful !!\n"
     ]
    }
   ],
   "source": [
    "import pyodbc\n",
    "\n",
    "HOST = \"localhost\"\n",
    "DATABASE = \"master\"\n",
    "USERNAME = \"sa\"\n",
    "PASSWORD = \"P@ssw0rd!\"\n",
    "\n",
    "connection = pyodbc.connect(\n",
    "                f'Driver={{SQL Server}};'\n",
    "                f'Server={HOST};'\n",
    "                f'Database={DATABASE};'\n",
    "                f'UID={USERNAME};'\n",
    "                f'PWD={PASSWORD};',\n",
    "                autocommit=True\n",
    "            )\n",
    "\n",
    "if connection is not None:\n",
    "    print('Connection Successful !!')\n",
    "else:\n",
    "    print(\"Connection Failed (X)\")\n",
    "\n",
    "cursor = connection.cursor() # we will use cursor for all DB operations"
   ]
  },
  {
   "cell_type": "markdown",
   "metadata": {},
   "source": [
    "### Step 4: Create a database `store` and a table `product`"
   ]
  },
  {
   "cell_type": "code",
   "execution_count": 15,
   "metadata": {},
   "outputs": [],
   "source": [
    "CREATE_DATABASE = \"CREATE DATABASE STORE;\"\n",
    "USE_DATABASE = \"USE STORE;\"\n",
    "CREATE_TABLE = \"IF OBJECT_ID(N'PRODUCT', N'U') IS NULL \\\n",
    "                CREATE TABLE PRODUCT ( \\\n",
    "                  id INT NOT NULL, \\\n",
    "                  name varchar(30) NOT NULL, \\\n",
    "                  PRIMARY KEY (id) \\\n",
    "                );\"\n",
    "\n",
    "cursor.execute(CREATE_DATABASE)\n",
    "cursor.execute(USE_DATABASE)\n",
    "cursor.execute(CREATE_TABLE)\n",
    "connection.commit()"
   ]
  },
  {
   "cell_type": "markdown",
   "metadata": {},
   "source": [
    "### Step 5: Insert a record in table `product`"
   ]
  },
  {
   "cell_type": "code",
   "execution_count": 16,
   "metadata": {},
   "outputs": [],
   "source": [
    "INSERT_RECORD = \"INSERT INTO PRODUCT (ID, NAME) VALUES (1, 'Apple') ;\"\n",
    "\n",
    "cursor.execute(INSERT_RECORD)\n",
    "connection.commit()"
   ]
  },
  {
   "cell_type": "markdown",
   "metadata": {},
   "source": [
    "### Step 6: Select record from table `product`"
   ]
  },
  {
   "cell_type": "code",
   "execution_count": 17,
   "metadata": {},
   "outputs": [
    {
     "name": "stdout",
     "output_type": "stream",
     "text": [
      "[(1, 'Apple')]\n"
     ]
    }
   ],
   "source": [
    "SELECT_RECORD = \"SELECT * FROM PRODUCT WHERE ID=1 ;\"\n",
    "\n",
    "cursor.execute(SELECT_RECORD)\n",
    "result = cursor.fetchall()\n",
    "\n",
    "print(result)"
   ]
  },
  {
   "cell_type": "markdown",
   "metadata": {},
   "source": [
    "### Step 7: Update record with different name in table `product` and select the record to verify if update is successful"
   ]
  },
  {
   "cell_type": "code",
   "execution_count": 18,
   "metadata": {},
   "outputs": [
    {
     "name": "stdout",
     "output_type": "stream",
     "text": [
      "[(1, 'Banana')]\n"
     ]
    }
   ],
   "source": [
    "UPDATE_RECORD = \"UPDATE PRODUCT SET NAME='Banana' WHERE ID=1 ;\"\n",
    "\n",
    "cursor.execute(UPDATE_RECORD)\n",
    "connection.commit()\n",
    "\n",
    "cursor.execute(SELECT_RECORD)\n",
    "result = cursor.fetchall()\n",
    "\n",
    "print(result)"
   ]
  },
  {
   "cell_type": "markdown",
   "metadata": {},
   "source": [
    "### Step 8: Delete record from table `product` and select the record to verify if delete is successful"
   ]
  },
  {
   "cell_type": "code",
   "execution_count": 19,
   "metadata": {},
   "outputs": [
    {
     "name": "stdout",
     "output_type": "stream",
     "text": [
      "[]\n"
     ]
    }
   ],
   "source": [
    "DELETE_RECORD = \"DELETE FROM PRODUCT WHERE ID=1 ;\"\n",
    "\n",
    "cursor.execute(DELETE_RECORD)\n",
    "connection.commit()\n",
    "\n",
    "cursor.execute(SELECT_RECORD)\n",
    "result = cursor.fetchall()\n",
    "\n",
    "print(result)"
   ]
  },
  {
   "cell_type": "markdown",
   "metadata": {},
   "source": [
    "### Step 9: Clean up resources"
   ]
  },
  {
   "cell_type": "code",
   "execution_count": 20,
   "metadata": {},
   "outputs": [
    {
     "name": "stderr",
     "output_type": "stream",
     "text": [
      "Container sql-server-python-db-1  Stopping\n",
      "Container sql-server-python-db-1  Stopping\n",
      "Container sql-server-python-db-1  Stopped\n",
      "Container sql-server-python-db-1  Removing\n",
      "Container sql-server-python-db-1  Removed\n",
      "Network sql-server-python_default  Removing\n",
      "Network sql-server-python_default  Removed\n"
     ]
    }
   ],
   "source": [
    "!docker compose down"
   ]
  }
 ],
 "metadata": {
  "kernelspec": {
   "display_name": "Python 3.10.8 64-bit (microsoft store)",
   "language": "python",
   "name": "python3"
  },
  "language_info": {
   "codemirror_mode": {
    "name": "ipython",
    "version": 3
   },
   "file_extension": ".py",
   "mimetype": "text/x-python",
   "name": "python",
   "nbconvert_exporter": "python",
   "pygments_lexer": "ipython3",
   "version": "3.10.8"
  },
  "orig_nbformat": 4,
  "vscode": {
   "interpreter": {
    "hash": "634444e4a42c0510ef2be0612b67bda39089e87c9d0419d021c4c25ff12e5e30"
   }
  }
 },
 "nbformat": 4,
 "nbformat_minor": 2
}
